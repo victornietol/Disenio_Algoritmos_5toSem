{
 "cells": [
  {
   "cell_type": "code",
   "execution_count": 7,
   "metadata": {},
   "outputs": [
    {
     "name": "stdout",
     "output_type": "stream",
     "text": [
      "[1, 2, 3, 4]\n"
     ]
    }
   ],
   "source": [
    "lista =  [1,2,3,4]\n",
    "lista_n = []\n",
    "for i in range(len(lista)):\n",
    "    lista_n.append(lista[i])\n",
    "\n",
    "print(lista_n)"
   ]
  },
  {
   "cell_type": "code",
   "execution_count": 20,
   "metadata": {},
   "outputs": [
    {
     "name": "stdout",
     "output_type": "stream",
     "text": [
      "[0, 0]\n",
      "[0, 0]\n",
      "[0, 0]\n",
      "[0, 0]\n",
      "[0, 0]\n",
      "[0, 0]\n",
      "[0, 0]\n",
      "bc\n",
      "a 0\n",
      "b 1\n",
      "c 2\n",
      "s 3\n",
      "d 4\n",
      "g 5\n"
     ]
    }
   ],
   "source": [
    "n = 2\n",
    "m = 7\n",
    "matriz = [[0 for x in range(n)] for j in range(m)]\n",
    "for e in matriz:\n",
    "    print(e)\n",
    "\n",
    "#print(\"\")\n",
    "#matriz[2][3] = 1\n",
    "#for e in matriz:\n",
    "#    print(e)\n",
    "\n",
    "cadena1 = 'abcsdg'\n",
    "print(cadena1[1:3])\n",
    "i = 0\n",
    "for e in cadena1:\n",
    "    print(e,i)\n",
    "    i+=1"
   ]
  },
  {
   "cell_type": "code",
   "execution_count": 24,
   "metadata": {},
   "outputs": [
    {
     "name": "stdout",
     "output_type": "stream",
     "text": [
      "a a | igual\n",
      "a b | diferente\n",
      "a j | diferente\n",
      "a s | diferente\n",
      "b a | diferente\n",
      "b b | igual\n",
      "b j | diferente\n",
      "b s | diferente\n",
      "c a | diferente\n",
      "c b | diferente\n",
      "c j | diferente\n",
      "c s | diferente\n",
      "s a | diferente\n",
      "s b | diferente\n",
      "s j | diferente\n",
      "s s | igual\n",
      "[0, 0, 0, 0]\n",
      "[0, 0, 0, 0]\n",
      "[0, 0, 0, 0]\n",
      "[0, 0, 0, 0]\n"
     ]
    }
   ],
   "source": [
    "cadena1 = 'abcs'\n",
    "cadena2 = 'abjs'\n",
    "n = len(cadena1)\n",
    "m = len(cadena2)\n",
    "matriz = [[0 for x in range(n)] for j in range(m)]\n",
    "for e in cadena1:\n",
    "    for i in cadena2:\n",
    "        print(e,i,end=\" | \")\n",
    "        if(e==i):\n",
    "            \n",
    "            print('igual')\n",
    "        elif(e!=i):\n",
    "            print('diferente')\n",
    "for e in matriz:\n",
    "    print(e)"
   ]
  },
  {
   "cell_type": "code",
   "execution_count": 32,
   "metadata": {},
   "outputs": [
    {
     "name": "stdout",
     "output_type": "stream",
     "text": [
      "0\n"
     ]
    }
   ],
   "source": [
    "a = 'sabcs'\n",
    "a2 = 's' \n",
    "ind = a.index(a2)\n",
    "print(ind)"
   ]
  },
  {
   "cell_type": "code",
   "execution_count": 31,
   "metadata": {},
   "outputs": [
    {
     "name": "stdout",
     "output_type": "stream",
     "text": [
      "[0, 0, 0, 0, 0, 0, 0, 0, 0]\n",
      "[1, 0, 0, 0, 0, 1, 0, 1, 0]\n",
      "[0, 0, 0, 1, 0, 0, 2, 0, 0]\n",
      "[0, 0, 0, 1, 0, 0, 1, 0, 0]\n",
      "[0, 0, 0, 0, 2, 0, 0, 0, 1]\n",
      "[1, 0, 0, 0, 0, 3, 0, 1, 0]\n",
      "[0, 0, 0, 1, 0, 0, 4, 0, 0]\n",
      "[0, 0, 0, 0, 0, 0, 0, 0, 0]\n",
      "[0, 0, 0, 1, 0, 0, 1, 0, 0]\n",
      "[0, 0, 0, 0, 0, 0, 0, 0, 0]\n",
      "[0, 0, 0, 1, 0, 0, 1, 0, 0]\n",
      "[0, 0, 0, 0, 2, 0, 0, 0, 1]\n"
     ]
    }
   ],
   "source": [
    "cadena1 = 'abcdsadas'\n",
    "cadena2 = 'gaddsadfdfds'\n",
    "n = len(cadena1)\n",
    "m = len(cadena2)\n",
    "aux_e = 0 # columnas\n",
    "aux_i = 0 # renglones\n",
    "matriz = [[0 for x in range(n)] for j in range(m)]\n",
    "for e in cadena1:\n",
    "    for i in cadena2:\n",
    "        #print(e,i)\n",
    "        if(e==i):\n",
    "            matriz[aux_e][aux_i] = 1\n",
    "            if (aux_e != 0) and (aux_i != 0):\n",
    "                matriz[aux_e][aux_i] += matriz[aux_e-1][aux_i-1]\n",
    "        elif(e!=i):\n",
    "            pass\n",
    "        aux_e +=1 \n",
    "    aux_i +=1 # componer los indices para que guarde correctamente en la matriz\n",
    "    aux_e = 0\n",
    "for e in matriz:\n",
    "    print(e)"
   ]
  },
  {
   "cell_type": "code",
   "execution_count": 1,
   "metadata": {},
   "outputs": [
    {
     "name": "stdout",
     "output_type": "stream",
     "text": [
      "[0, 0, 0, 0, 0, 0, 0, 0, 0]\n",
      "[1, 0, 0, 0, 0, 1, 0, 1, 0]\n",
      "[0, 0, 0, 1, 0, 0, 2, 0, 0]\n",
      "[0, 0, 0, 1, 0, 0, 1, 0, 0]\n",
      "[0, 0, 0, 0, 2, 0, 0, 0, 1]\n",
      "[1, 0, 0, 0, 0, 3, 0, 1, 0]\n",
      "[0, 0, 0, 1, 0, 0, 4, 0, 0]\n",
      "[0, 0, 0, 0, 0, 0, 0, 0, 0]\n",
      "[0, 0, 0, 1, 0, 0, 1, 0, 0]\n",
      "[0, 0, 0, 0, 0, 0, 0, 0, 0]\n",
      "[0, 0, 0, 1, 0, 0, 1, 0, 0]\n",
      "[0, 0, 0, 0, 2, 0, 0, 0, 1]\n"
     ]
    }
   ],
   "source": [
    "cadena1 = 'abcdsadas'\n",
    "cadena2 = 'gaddsadfdfds'\n",
    "n = len(cadena1)\n",
    "m = len(cadena2)\n",
    "aux_e = 0 # columnas\n",
    "aux_i = 0 # renglones\n",
    "matriz = [[0 for x in range(n)] for j in range(m)]\n",
    "for e in cadena2:\n",
    "    for i in cadena1:\n",
    "        #print(e,i)\n",
    "        if(e==i):\n",
    "            matriz[aux_e][aux_i] = 1\n",
    "            if (aux_e != 0) and (aux_i != 0):\n",
    "                matriz[aux_e][aux_i] += matriz[aux_e-1][aux_i-1]\n",
    "        elif(e!=i):\n",
    "            pass\n",
    "        aux_i +=1 \n",
    "    aux_e +=1 # YA QUEDO \n",
    "    aux_i = 0\n",
    "for e in matriz:\n",
    "    print(e)"
   ]
  },
  {
   "cell_type": "code",
   "execution_count": 14,
   "metadata": {},
   "outputs": [
    {
     "name": "stdout",
     "output_type": "stream",
     "text": [
      "dsad\n"
     ]
    }
   ],
   "source": [
    "def encontrarM(matriz):\n",
    "    mayor = 0\n",
    "    ren = 0\n",
    "    col = 0\n",
    "    for e in matriz:\n",
    "        for j in e:\n",
    "            if(j > mayor):\n",
    "                ren_f = ren\n",
    "                col_f = col\n",
    "                mayor = j\n",
    "            col +=1\n",
    "        col = 0\n",
    "        ren +=1\n",
    "    return ren_f,col_f,mayor     \n",
    "\n",
    "def encontrarSub(cadena,mayor,col):\n",
    "    subcadena = cadena[col-(mayor-1):col+1]\n",
    "    return subcadena\n",
    "    \n",
    "\n",
    "cadena1 = 'abcdsadas'\n",
    "cadena2 = 'gaddsadfdfds'\n",
    "n = len(cadena1)\n",
    "m = len(cadena2)\n",
    "aux_e = 0 # columnas\n",
    "aux_i = 0 # renglones\n",
    "matriz = [[0 for x in range(n)] for j in range(m)]\n",
    "for e in cadena2:\n",
    "    for i in cadena1:\n",
    "        if(e==i):\n",
    "            matriz[aux_e][aux_i] = 1\n",
    "            if (aux_e != 0) and (aux_i != 0):\n",
    "                matriz[aux_e][aux_i] += matriz[aux_e-1][aux_i-1]\n",
    "        elif(e!=i):\n",
    "            pass\n",
    "        aux_i +=1 \n",
    "    aux_e +=1 \n",
    "    aux_i = 0\n",
    "ren,col,mayor = (encontrarM(matriz))\n",
    "subcadena = encontrarSub(cadena1,mayor,col)\n",
    "print(subcadena)\n",
    "\n",
    "\n",
    "#ren,col,mayor=(encontrarM(matriz))\n",
    "#print(ren,col,mayor)\n",
    "\n"
   ]
  },
  {
   "cell_type": "code",
   "execution_count": 18,
   "metadata": {},
   "outputs": [
    {
     "name": "stdout",
     "output_type": "stream",
     "text": [
      "fesaragon\n"
     ]
    }
   ],
   "source": [
    "def encontrarM(matriz):\n",
    "    mayor = 0\n",
    "    ren = 0\n",
    "    col = 0\n",
    "    for e in matriz:\n",
    "        for j in e:\n",
    "            if(j > mayor):\n",
    "                ren_f = ren\n",
    "                col_f = col\n",
    "                mayor = j\n",
    "            col +=1\n",
    "        col = 0\n",
    "        ren +=1\n",
    "    return ren_f,col_f,mayor     \n",
    "\n",
    "def encontrarSub(cadena,mayor,col):\n",
    "    subcadena = cadena[col-(mayor-1):col+1]\n",
    "    return subcadena\n",
    "    \n",
    "\n",
    "cadena1 = 'anrieofesaragongrethf'\n",
    "cadena2 = 'esfsrfefesaragonvxn'\n",
    "n = len(cadena1)\n",
    "m = len(cadena2)\n",
    "aux_e = 0 # columnas\n",
    "aux_i = 0 # renglones\n",
    "matriz = [[0 for x in range(n)] for j in range(m)]\n",
    "for e in cadena2:\n",
    "    for i in cadena1:\n",
    "        if(e==i):\n",
    "            matriz[aux_e][aux_i] = 1\n",
    "            if (aux_e != 0) and (aux_i != 0):\n",
    "                matriz[aux_e][aux_i] += matriz[aux_e-1][aux_i-1]\n",
    "        elif(e!=i):\n",
    "            pass\n",
    "        aux_i +=1 \n",
    "    aux_e +=1 \n",
    "    aux_i = 0\n",
    "ren,col,mayor = (encontrarM(matriz))\n",
    "subcadena = encontrarSub(cadena1,mayor,col)\n",
    "print(subcadena)"
   ]
  }
 ],
 "metadata": {
  "kernelspec": {
   "display_name": "Python 3.9.1 64-bit",
   "language": "python",
   "name": "python3"
  },
  "language_info": {
   "codemirror_mode": {
    "name": "ipython",
    "version": 3
   },
   "file_extension": ".py",
   "mimetype": "text/x-python",
   "name": "python",
   "nbconvert_exporter": "python",
   "pygments_lexer": "ipython3",
   "version": "3.9.1"
  },
  "orig_nbformat": 4,
  "vscode": {
   "interpreter": {
    "hash": "09c28e8e0273a779df21193e277dbfb84c67a03f6d1d2a606392e775312b663f"
   }
  }
 },
 "nbformat": 4,
 "nbformat_minor": 2
}
